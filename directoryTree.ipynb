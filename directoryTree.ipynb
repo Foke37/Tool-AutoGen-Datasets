{
 "cells": [
  {
   "cell_type": "code",
   "execution_count": 17,
   "metadata": {},
   "outputs": [],
   "source": [
    "import os\n",
    "import shutil\n",
    "\n",
    "def extract_files_to_main_folder(main_folder):\n",
    "    # Loop through all items in the main folder\n",
    "    for subdir, _, files in os.walk(main_folder):\n",
    "        # Skip the main folder itself\n",
    "        if subdir == main_folder:\n",
    "            continue\n",
    "        \n",
    "        # Move each file in the subfolders to the main folder\n",
    "        for file in files:\n",
    "            file_path = os.path.join(subdir, file)\n",
    "            shutil.move(file_path, main_folder)\n",
    "\n",
    "        # Remove the subfolder after moving the files\n",
    "        os.rmdir(subdir)\n",
    "\n",
    "# Example usage\n",
    "main_folder = \"D:\\cpf\\data auto image\\Round Box\\ch3\"\n",
    "extract_files_to_main_folder(main_folder)\n"
   ]
  }
 ],
 "metadata": {
  "kernelspec": {
   "display_name": "base",
   "language": "python",
   "name": "python3"
  },
  "language_info": {
   "codemirror_mode": {
    "name": "ipython",
    "version": 3
   },
   "file_extension": ".py",
   "mimetype": "text/x-python",
   "name": "python",
   "nbconvert_exporter": "python",
   "pygments_lexer": "ipython3",
   "version": "3.11.7"
  }
 },
 "nbformat": 4,
 "nbformat_minor": 2
}
